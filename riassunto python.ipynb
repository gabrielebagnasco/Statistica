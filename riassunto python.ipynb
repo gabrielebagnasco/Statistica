{
 "cells": [
  {
   "cell_type": "markdown",
   "id": "5c26db63",
   "metadata": {},
   "source": [
    "# Python\n",
    "## Liste"
   ]
  },
  {
   "cell_type": "code",
   "execution_count": 2,
   "id": "ce39d206",
   "metadata": {},
   "outputs": [],
   "source": [
    "iron_man = ['Iron Man',\n",
    "            'Tony Stark',\n",
    "            'Long Island, New York',\n",
    "            'Marvel Comics',\n",
    "            198.51,\n",
    "            191.85,\n",
    "            'M',\n",
    "            1963,\n",
    "            'Blue',\n",
    "            'Black',\n",
    "            85,\n",
    "           'high']"
   ]
  },
  {
   "cell_type": "markdown",
   "id": "efe6e7b1",
   "metadata": {},
   "source": [
    "### Accesso alla lista"
   ]
  },
  {
   "cell_type": "code",
   "execution_count": null,
   "id": "4657e6f9",
   "metadata": {},
   "outputs": [],
   "source": [
    "iron_man[1]\n",
    "iron_man[-2] #con i negativi si parte dall'ultimo elemento quindi -2 è il penultimo\n",
    "iron_man[4:6] #primo incluso, secondo escluso\n",
    "iron_man[-4:-2]"
   ]
  },
  {
   "cell_type": "markdown",
   "id": "e2c0e933",
   "metadata": {},
   "source": [
    "### Operazioni sulle liste"
   ]
  },
  {
   "cell_type": "code",
   "execution_count": 3,
   "id": "abd5495e",
   "metadata": {},
   "outputs": [],
   "source": [
    "names = ['Aquaman', 'Ant-Man', 'Batman', 'Black Widow',\n",
    "         'Captain America', 'Daredavil', 'Elektra', 'Flash',\n",
    "         'Green Arrow', 'Human Torch', 'Hancock', 'Iron Man',\n",
    "         'Mystique', 'Professor X', 'Rogue', 'Superman',\n",
    "         'Spider-Man', 'Thor', 'Northstar']"
   ]
  },
  {
   "cell_type": "code",
   "execution_count": null,
   "id": "90edbfab",
   "metadata": {},
   "outputs": [],
   "source": [
    "'Thing' in names  #verifica se 'Thing' è presente nella lista names restituendo true o false\n",
    "del names[0] #elimina l'elemento 0\n",
    "len(names) #restituisce il numero di elementi\n",
    "names.sort() #riordina la lista\n",
    "names.sort(reverse=True) #riordina la lista al contrario\n",
    "names.insert(4, 'Aquaman') #inserisce 'Aquaman' dopo l'elemento 4"
   ]
  },
  {
   "cell_type": "markdown",
   "id": "9fce3ec3",
   "metadata": {},
   "source": [
    "**Lambda**"
   ]
  },
  {
   "cell_type": "code",
   "execution_count": null,
   "id": "6c2ec583",
   "metadata": {},
   "outputs": [],
   "source": [
    "successore = lambda n: n+1\n",
    "successore(9) #restituisce 10"
   ]
  },
  {
   "cell_type": "markdown",
   "id": "8e91fdfc",
   "metadata": {},
   "source": [
    "## Tuple\n",
    "Una tupla è una lista immutabile"
   ]
  },
  {
   "cell_type": "code",
   "execution_count": 5,
   "id": "1c2c64a0",
   "metadata": {},
   "outputs": [],
   "source": [
    "rogue = ('Rogue',\n",
    "         'Anna Marie',\n",
    "         'Caldecott County, Mississippi',\n",
    "         'Marvel Comics',\n",
    "         173.1,\n",
    "         54.39,\n",
    "         'F',\n",
    "         1981,\n",
    "         'Green',\n",
    "         'Brown / White',\n",
    "         10,\n",
    "        'good')"
   ]
  },
  {
   "cell_type": "markdown",
   "id": "486f96f7",
   "metadata": {},
   "source": [
    "Va notato che la sintassi per la descrizione delle tuple diventa problematica quando si vuole indicare una tupla contenente un unico elemento, in quanto per esempio (1) viene interpretato come valore 1 tra parentesi tonde. La soluzione in casi come questi è quella di fare seguire l'unico elemento della tupla da una virgola, scrivendo per esempio (1,). Come regola generale, infatti, è possibile aggiungere una virgola alla fine di una tupla (o di una lista) senza variarne i contenuti."
   ]
  },
  {
   "cell_type": "markdown",
   "id": "dd06c701",
   "metadata": {},
   "source": [
    "## Dizionari"
   ]
  },
  {
   "cell_type": "code",
   "execution_count": 6,
   "id": "b7412db3",
   "metadata": {},
   "outputs": [],
   "source": [
    "rogue = {'name': 'Rogue',\n",
    "         'identity': 'Anna Marie',\n",
    "         'birth_place': 'Caldecott County, Mississippi',\n",
    "         'publisher': 'Marvel Comics',\n",
    "         'height': 173.1,\n",
    "         'weight': 54.39,\n",
    "         'gender': 'F',\n",
    "         'first_appearance': 1981,\n",
    "         'eye_color': 'Green',\n",
    "         'hair_color': 'Brown / White',\n",
    "         'strength': 10,\n",
    "         'intelligence': 'good'}"
   ]
  },
  {
   "cell_type": "markdown",
   "id": "1a1f2364",
   "metadata": {},
   "source": [
    "### Accesso al dizionario"
   ]
  },
  {
   "cell_type": "code",
   "execution_count": null,
   "id": "0b773ab0",
   "metadata": {},
   "outputs": [],
   "source": [
    "rogue['identity']"
   ]
  },
  {
   "cell_type": "markdown",
   "id": "0999b3cf",
   "metadata": {},
   "source": [
    "## Strutture di controllo\n",
    "Immaginiamo di voler contare il numero di apparizioni di supereroi ogni anno"
   ]
  },
  {
   "cell_type": "code",
   "execution_count": 7,
   "id": "5f1f40c3",
   "metadata": {},
   "outputs": [],
   "source": [
    "names = ['Aquaman', 'Ant-Man', 'Batman', 'Black Widow',\n",
    "         'Captain America', 'Daredavil', 'Elektra', 'Flash',\n",
    "         'Green Arrow', 'Human Torch', 'Hancock', 'Iron Man',\n",
    "         'Mystique', 'Professor X', 'Rogue', 'Superman',\n",
    "         'Spider-Man', 'Thor', 'Northstar']\n",
    "\n",
    "years = [1941, 1962, None, None, 1941,\n",
    "         1964, None, 1940, 1941, 1961,\n",
    "         None, 1963, None, 1963, 1981,\n",
    "         None, None, 1962, 1979]"
   ]
  },
  {
   "cell_type": "code",
   "execution_count": 9,
   "id": "39b49900",
   "metadata": {},
   "outputs": [
    {
     "data": {
      "text/plain": [
       "{1941: 3,\n",
       " 1962: 2,\n",
       " None: 7,\n",
       " 1964: 1,\n",
       " 1940: 1,\n",
       " 1961: 1,\n",
       " 1963: 2,\n",
       " 1981: 1,\n",
       " 1979: 1}"
      ]
     },
     "execution_count": 9,
     "metadata": {},
     "output_type": "execute_result"
    }
   ],
   "source": [
    "counts = {}\n",
    "for y in years:\n",
    "    if y in counts:\n",
    "        counts[y] += 1\n",
    "    else:\n",
    "        counts[y] = 1\n",
    "counts"
   ]
  },
  {
   "cell_type": "markdown",
   "id": "24c62e80",
   "metadata": {},
   "source": [
    "Supponiamo di voler visualizzare i conteggi visualizzando prima l'anno con il maggior numero di apparizioni, per poi procedere in ordine decrescente"
   ]
  },
  {
   "cell_type": "code",
   "execution_count": 10,
   "id": "7a5a06e8",
   "metadata": {},
   "outputs": [
    {
     "data": {
      "text/plain": [
       "[(None, 7),\n",
       " (1941, 3),\n",
       " (1962, 2),\n",
       " (1963, 2),\n",
       " (1964, 1),\n",
       " (1940, 1),\n",
       " (1961, 1),\n",
       " (1981, 1),\n",
       " (1979, 1)]"
      ]
     },
     "execution_count": 10,
     "metadata": {},
     "output_type": "execute_result"
    }
   ],
   "source": [
    "pairs = list(counts.items())\n",
    "sorted(pairs, key=lambda p:p[1], reverse=True)"
   ]
  },
  {
   "cell_type": "markdown",
   "id": "cd4dd83a",
   "metadata": {},
   "source": [
    "## Funzioni"
   ]
  },
  {
   "cell_type": "code",
   "execution_count": null,
   "id": "e8763dbb",
   "metadata": {},
   "outputs": [],
   "source": [
    "def get_sorted_counts(sequence):\n",
    "    counts = {}\n",
    "\n",
    "    for x in sequence:\n",
    "        if x in counts:\n",
    "            counts[x] += 1\n",
    "        else:\n",
    "            counts[x] = 1\n",
    "\n",
    "    pairs = counts.items()\n",
    "    return sorted(pairs, key=lambda p:p[1], reverse=True)\n",
    "\n",
    "get_sorted_counts(years)"
   ]
  },
  {
   "cell_type": "markdown",
   "id": "5a14a7ea",
   "metadata": {},
   "source": [
    "## defaultdict\n",
    "L'espressione defaultdict() crea un dizionario vuoto e il tipo indicato come argomento determina quale sarà il valore predefinito per le chiavi. Nel nostro caso, l'argomento int fa sì che tale valore predefinito sia 0. Ciò permette di riscrivere la funzione get_sorted_counts in modo che non sia più necessario verificare preventivamente l'esistenza dei contatori."
   ]
  },
  {
   "cell_type": "code",
   "execution_count": null,
   "id": "33a313e4",
   "metadata": {},
   "outputs": [],
   "source": [
    "from collections import defaultdict\n",
    "\n",
    "def get_sorted_counts(sequence):\n",
    "    counts = defaultdict(int)\n",
    "\n",
    "    for x in sequence:\n",
    "        counts[x] += 1\n",
    "\n",
    "    pairs = counts.items()\n",
    "    return sorted(pairs, key=lambda p:p[1], reverse=True)"
   ]
  },
  {
   "cell_type": "markdown",
   "id": "60de57f5",
   "metadata": {},
   "source": [
    "## Apertura file csv"
   ]
  },
  {
   "cell_type": "code",
   "execution_count": 22,
   "id": "c6a3689f",
   "metadata": {},
   "outputs": [],
   "source": [
    "import csv\n",
    "\n",
    "with open('jupyter/data/heroes.csv', 'r') as heroes_file:\n",
    "  heroes_reader = csv.reader(heroes_file, delimiter=';', quotechar='\"')\n",
    "  heroes = list(heroes_reader)[1:]"
   ]
  },
  {
   "cell_type": "markdown",
   "id": "43a973ee",
   "metadata": {},
   "source": [
    "# Numpy"
   ]
  },
  {
   "cell_type": "code",
   "execution_count": 11,
   "id": "245e7e1d",
   "metadata": {},
   "outputs": [],
   "source": [
    "import numpy as np"
   ]
  },
  {
   "cell_type": "markdown",
   "id": "4383a344",
   "metadata": {},
   "source": [
    "## Creazione array"
   ]
  },
  {
   "cell_type": "code",
   "execution_count": null,
   "id": "a7ea5d4b",
   "metadata": {},
   "outputs": [],
   "source": [
    "a = np.array([1,2,3]) #crea un array\n",
    "np.zeros((3, 4)) #crea una matrice di 0\n",
    "np.arange(10,25,5) #crea un array da 10 (incluso) a 25 (escluso) con passo 5\n",
    "np.linspace(0,2,9) #crea un array da 0 a 2 formato da 9 elementi equamente spaziati"
   ]
  },
  {
   "cell_type": "markdown",
   "id": "17f1f4f9",
   "metadata": {},
   "source": [
    "## Informazioni"
   ]
  },
  {
   "cell_type": "code",
   "execution_count": null,
   "id": "2baf9ffc",
   "metadata": {},
   "outputs": [],
   "source": [
    "a.shape\n",
    "e.size\n",
    "b.dtype"
   ]
  },
  {
   "cell_type": "markdown",
   "id": "f7f562aa",
   "metadata": {},
   "source": [
    "## Casting"
   ]
  },
  {
   "cell_type": "code",
   "execution_count": null,
   "id": "f552aeca",
   "metadata": {},
   "outputs": [],
   "source": [
    "b.astype(int)"
   ]
  },
  {
   "cell_type": "markdown",
   "id": "d5f7c5cd",
   "metadata": {},
   "source": [
    "## Operazioni matematiche"
   ]
  },
  {
   "cell_type": "code",
   "execution_count": null,
   "id": "ab0420e2",
   "metadata": {},
   "outputs": [],
   "source": [
    "np.exp(b)\n",
    "np.sqrt(b)\n",
    "np.sin(a)\n",
    "np.log(a)\n",
    "a.sum()\n",
    "a.min()\n",
    "a.max(axis = 0)\n",
    "b.cumsum(axis = 1) #somma cumulativa\n",
    "a.mean()\n",
    "a.median()\n",
    "a.describe()\n",
    "year.qauntile(.15)"
   ]
  },
  {
   "cell_type": "markdown",
   "id": "34a15576",
   "metadata": {},
   "source": [
    "# Pandas"
   ]
  },
  {
   "cell_type": "code",
   "execution_count": 23,
   "id": "8c5523dc",
   "metadata": {},
   "outputs": [],
   "source": [
    "import pandas as pd"
   ]
  },
  {
   "cell_type": "markdown",
   "id": "69dd8448",
   "metadata": {},
   "source": [
    "## Serie"
   ]
  },
  {
   "cell_type": "markdown",
   "id": "2dc8fbab",
   "metadata": {},
   "source": [
    "# Grafici"
   ]
  }
 ],
 "metadata": {
  "kernelspec": {
   "display_name": "Python 3 (ipykernel)",
   "language": "python",
   "name": "python3"
  },
  "language_info": {
   "codemirror_mode": {
    "name": "ipython",
    "version": 3
   },
   "file_extension": ".py",
   "mimetype": "text/x-python",
   "name": "python",
   "nbconvert_exporter": "python",
   "pygments_lexer": "ipython3",
   "version": "3.9.13"
  }
 },
 "nbformat": 4,
 "nbformat_minor": 5
}
