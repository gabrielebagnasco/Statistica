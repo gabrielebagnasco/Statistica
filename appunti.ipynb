{
 "cells": [
  {
   "cell_type": "markdown",
   "id": "ff54785d",
   "metadata": {},
   "source": [
    "# Introduzione a python\n",
    "## Liste"
   ]
  },
  {
   "cell_type": "code",
   "execution_count": 1,
   "id": "242f31b7",
   "metadata": {},
   "outputs": [],
   "source": [
    "iron_man = ['Iron Man',\n",
    "            'Tony Stark',\n",
    "            'Long Island, New York',\n",
    "            'Marvel Comics',\n",
    "            198.51,\n",
    "            191.85,\n",
    "            'M',\n",
    "            1963,\n",
    "            'Blue',\n",
    "            'Black',\n",
    "            85,\n",
    "           'high']"
   ]
  },
  {
   "cell_type": "markdown",
   "id": "35754b6d",
   "metadata": {},
   "source": [
    "Per accedere agli elementi della lista si può fare nei seguenti modi:"
   ]
  },
  {
   "cell_type": "code",
   "execution_count": 7,
   "id": "7d65e739",
   "metadata": {},
   "outputs": [
    {
     "data": {
      "text/plain": [
       "'Tony Stark'"
      ]
     },
     "execution_count": 7,
     "metadata": {},
     "output_type": "execute_result"
    }
   ],
   "source": [
    "iron_man[1]"
   ]
  },
  {
   "cell_type": "code",
   "execution_count": 4,
   "id": "4aa98ebe",
   "metadata": {},
   "outputs": [
    {
     "data": {
      "text/plain": [
       "85"
      ]
     },
     "execution_count": 4,
     "metadata": {},
     "output_type": "execute_result"
    }
   ],
   "source": [
    "iron_man[-2] #con i negativi si parte dall'ultimo elemento quindi -2 è il penultimo"
   ]
  },
  {
   "cell_type": "markdown",
   "id": "8300993b",
   "metadata": {},
   "source": [
    "**List slicing**"
   ]
  },
  {
   "cell_type": "code",
   "execution_count": 6,
   "id": "5c87e5bf",
   "metadata": {},
   "outputs": [
    {
     "data": {
      "text/plain": [
       "[198.51, 191.85]"
      ]
     },
     "execution_count": 6,
     "metadata": {},
     "output_type": "execute_result"
    }
   ],
   "source": [
    "iron_man[4:6] #primo incluso, secondo escluso"
   ]
  },
  {
   "cell_type": "code",
   "execution_count": 8,
   "id": "0267b272",
   "metadata": {},
   "outputs": [
    {
     "data": {
      "text/plain": [
       "['Blue', 'Black']"
      ]
     },
     "execution_count": 8,
     "metadata": {},
     "output_type": "execute_result"
    }
   ],
   "source": [
    "iron_man[-4:-2]"
   ]
  },
  {
   "cell_type": "markdown",
   "id": "d8e427ba",
   "metadata": {},
   "source": [
    "### Operatori"
   ]
  },
  {
   "cell_type": "code",
   "execution_count": 16,
   "id": "b2f283f3",
   "metadata": {},
   "outputs": [],
   "source": [
    "names = ['Aquaman', 'Ant-Man', 'Batman', 'Black Widow',\n",
    "         'Captain America', 'Daredavil', 'Elektra', 'Flash',\n",
    "         'Green Arrow', 'Human Torch', 'Hancock', 'Iron Man',\n",
    "         'Mystique', 'Professor X', 'Rogue', 'Superman',\n",
    "         'Spider-Man', 'Thor', 'Northstar']"
   ]
  },
  {
   "cell_type": "code",
   "execution_count": 17,
   "id": "e05145f2",
   "metadata": {},
   "outputs": [
    {
     "data": {
      "text/plain": [
       "False"
      ]
     },
     "execution_count": 17,
     "metadata": {},
     "output_type": "execute_result"
    }
   ],
   "source": [
    "'Thing' in names  #verifica se 'Thing' è presente nella lista names restituendo true o false"
   ]
  },
  {
   "cell_type": "code",
   "execution_count": 18,
   "id": "bb94307f",
   "metadata": {},
   "outputs": [
    {
     "data": {
      "text/plain": [
       "True"
      ]
     },
     "execution_count": 18,
     "metadata": {},
     "output_type": "execute_result"
    }
   ],
   "source": [
    "'Human Torch' in names"
   ]
  },
  {
   "cell_type": "code",
   "execution_count": 19,
   "id": "6c9e11aa",
   "metadata": {},
   "outputs": [],
   "source": [
    "del names[0] #elimina il primo elemento"
   ]
  },
  {
   "cell_type": "code",
   "execution_count": 20,
   "id": "6478f0db",
   "metadata": {},
   "outputs": [
    {
     "data": {
      "text/plain": [
       "'Ant-Man'"
      ]
     },
     "execution_count": 20,
     "metadata": {},
     "output_type": "execute_result"
    }
   ],
   "source": [
    "names[0]"
   ]
  },
  {
   "cell_type": "code",
   "execution_count": 21,
   "id": "516db179",
   "metadata": {},
   "outputs": [
    {
     "data": {
      "text/plain": [
       "18"
      ]
     },
     "execution_count": 21,
     "metadata": {},
     "output_type": "execute_result"
    }
   ],
   "source": [
    "len(names) #restituisce il numero di elementi"
   ]
  },
  {
   "cell_type": "code",
   "execution_count": 22,
   "id": "27318add",
   "metadata": {},
   "outputs": [],
   "source": [
    "names.sort() #riordina la lista"
   ]
  },
  {
   "cell_type": "code",
   "execution_count": 23,
   "id": "517e624a",
   "metadata": {},
   "outputs": [],
   "source": [
    "names.sort(reverse=True) #riordina la lista al contrario"
   ]
  },
  {
   "cell_type": "code",
   "execution_count": 24,
   "id": "af6607b9",
   "metadata": {},
   "outputs": [
    {
     "data": {
      "text/plain": [
       "['Daredavil', 'Captain America', 'Black Widow', 'Batman', 'Ant-Man']"
      ]
     },
     "execution_count": 24,
     "metadata": {},
     "output_type": "execute_result"
    }
   ],
   "source": [
    "names[-5:]"
   ]
  },
  {
   "cell_type": "code",
   "execution_count": 25,
   "id": "d1b0d9e8",
   "metadata": {},
   "outputs": [
    {
     "data": {
      "text/plain": [
       "10"
      ]
     },
     "execution_count": 25,
     "metadata": {},
     "output_type": "execute_result"
    }
   ],
   "source": [
    "successore = lambda n: n+1\n",
    "successore(9)"
   ]
  },
  {
   "cell_type": "code",
   "execution_count": 27,
   "id": "25e16c45",
   "metadata": {},
   "outputs": [
    {
     "data": {
      "text/plain": [
       "['Thor', 'Superman', 'Spider-Man', 'Rogue', 'Aquaman', 'Aquaman']"
      ]
     },
     "execution_count": 27,
     "metadata": {},
     "output_type": "execute_result"
    }
   ],
   "source": [
    "names.insert(4, 'Aquaman')\n",
    "names[:6]"
   ]
  },
  {
   "cell_type": "markdown",
   "id": "d70cb274",
   "metadata": {},
   "source": [
    "## Tuple\n",
    "Una tupla è una lista immutabile: una volta creata non è possibile modificare i suoi contenuti. Una tupla viene indicata in modo analogo a una lista, con l'unica differenza che i suoi contenuti sono delimitati da parentesi tonde."
   ]
  },
  {
   "cell_type": "code",
   "execution_count": 28,
   "id": "1b36d457",
   "metadata": {},
   "outputs": [],
   "source": [
    "rogue = ('Rogue',\n",
    "         'Anna Marie',\n",
    "         'Caldecott County, Mississippi',\n",
    "         'Marvel Comics',\n",
    "         173.1,\n",
    "         54.39,\n",
    "         'F',\n",
    "         1981,\n",
    "         'Green',\n",
    "         'Brown / White',\n",
    "         10,\n",
    "        'good')"
   ]
  },
  {
   "cell_type": "markdown",
   "id": "ea50b794",
   "metadata": {},
   "source": [
    "Va notato che la sintassi per la descrizione delle tuple diventa problematica quando si vuole indicare una tupla contenente un unico elemento, in quanto per esempio `(1)` viene interpretato come valore `1` tra parentesi tonde. La soluzione in casi come questi è quella di fare seguire l'unico elemento della tupla da una virgola, scrivendo per esempio `(1,)`. Come regola generale, infatti, è possibile aggiungere una virgola alla fine di una tupla (o di una lista) senza variarne i contenuti."
   ]
  },
  {
   "cell_type": "markdown",
   "id": "6551e019",
   "metadata": {},
   "source": [
    "## Dizionari"
   ]
  },
  {
   "cell_type": "code",
   "execution_count": 29,
   "id": "14c98016",
   "metadata": {},
   "outputs": [],
   "source": [
    "rogue = {'name': 'Rogue',\n",
    "         'identity': 'Anna Marie',\n",
    "         'birth_place': 'Caldecott County, Mississippi',\n",
    "         'publisher': 'Marvel Comics',\n",
    "         'height': 173.1,\n",
    "         'weight': 54.39,\n",
    "         'gender': 'F',\n",
    "         'first_appearance': 1981,\n",
    "         'eye_color': 'Green',\n",
    "         'hair_color': 'Brown / White',\n",
    "         'strength': 10,\n",
    "         'intelligence': 'good'}"
   ]
  },
  {
   "cell_type": "code",
   "execution_count": 30,
   "id": "1e50f095",
   "metadata": {},
   "outputs": [
    {
     "data": {
      "text/plain": [
       "'Anna Marie'"
      ]
     },
     "execution_count": 30,
     "metadata": {},
     "output_type": "execute_result"
    }
   ],
   "source": [
    "rogue['identity']"
   ]
  },
  {
   "cell_type": "markdown",
   "id": "4ddc5d03",
   "metadata": {},
   "source": [
    "## Strutture di controllo\n",
    "Immaginiamo di voler contare il numero di apparizioni di supereroi in ogni anno"
   ]
  },
  {
   "cell_type": "code",
   "execution_count": 31,
   "id": "7e7a26c2",
   "metadata": {},
   "outputs": [],
   "source": [
    "names = ['Aquaman', 'Ant-Man', 'Batman', 'Black Widow',\n",
    "         'Captain America', 'Daredavil', 'Elektra', 'Flash',\n",
    "         'Green Arrow', 'Human Torch', 'Hancock', 'Iron Man',\n",
    "         'Mystique', 'Professor X', 'Rogue', 'Superman',\n",
    "         'Spider-Man', 'Thor', 'Northstar']\n",
    "\n",
    "years = [1941, 1962, None, None, 1941,\n",
    "         1964, None, 1940, 1941, 1961,\n",
    "         None, 1963, None, 1963, 1981,\n",
    "         None, None, 1962, 1979]"
   ]
  },
  {
   "cell_type": "code",
   "execution_count": 34,
   "id": "acb5d72b",
   "metadata": {},
   "outputs": [
    {
     "data": {
      "text/plain": [
       "{1941: 3,\n",
       " 1962: 2,\n",
       " None: 7,\n",
       " 1964: 1,\n",
       " 1940: 1,\n",
       " 1961: 1,\n",
       " 1963: 2,\n",
       " 1981: 1,\n",
       " 1979: 1}"
      ]
     },
     "execution_count": 34,
     "metadata": {},
     "output_type": "execute_result"
    }
   ],
   "source": [
    "counts = {}\n",
    "for y in years:\n",
    "    if y in counts:\n",
    "        counts[y] += 1\n",
    "    else:\n",
    "        counts[y] = 1\n",
    "counts"
   ]
  },
  {
   "cell_type": "markdown",
   "id": "1b78f8d1",
   "metadata": {},
   "source": [
    "Supponiamo di voler visualizzare i conteggi visualizzando prima l'anno con il maggior numero di apparizioni, per poi procedere in ordine decrescente"
   ]
  },
  {
   "cell_type": "code",
   "execution_count": 35,
   "id": "6b9e9647",
   "metadata": {},
   "outputs": [
    {
     "data": {
      "text/plain": [
       "[(None, 7),\n",
       " (1941, 3),\n",
       " (1962, 2),\n",
       " (1963, 2),\n",
       " (1964, 1),\n",
       " (1940, 1),\n",
       " (1961, 1),\n",
       " (1981, 1),\n",
       " (1979, 1)]"
      ]
     },
     "execution_count": 35,
     "metadata": {},
     "output_type": "execute_result"
    }
   ],
   "source": [
    "pairs = list(counts.items())\n",
    "sorted(pairs, key=lambda p:p[1], reverse=True)"
   ]
  },
  {
   "cell_type": "markdown",
   "id": "694c9a2f",
   "metadata": {},
   "source": [
    "## Funzioni"
   ]
  },
  {
   "cell_type": "code",
   "execution_count": 36,
   "id": "88611dfb",
   "metadata": {},
   "outputs": [
    {
     "data": {
      "text/plain": [
       "[(None, 7),\n",
       " (1941, 3),\n",
       " (1962, 2),\n",
       " (1963, 2),\n",
       " (1964, 1),\n",
       " (1940, 1),\n",
       " (1961, 1),\n",
       " (1981, 1),\n",
       " (1979, 1)]"
      ]
     },
     "execution_count": 36,
     "metadata": {},
     "output_type": "execute_result"
    }
   ],
   "source": [
    "def get_sorted_counts(sequence):\n",
    "    counts = {}\n",
    "\n",
    "    for x in sequence:\n",
    "        if x in counts:\n",
    "            counts[x] += 1\n",
    "        else:\n",
    "            counts[x] = 1\n",
    "\n",
    "    pairs = counts.items()\n",
    "    return sorted(pairs, key=lambda p:p[1], reverse=True)\n",
    "\n",
    "get_sorted_counts(years)"
   ]
  },
  {
   "cell_type": "markdown",
   "id": "000c8fb3",
   "metadata": {},
   "source": [
    "## Importare moduli"
   ]
  },
  {
   "cell_type": "code",
   "execution_count": 37,
   "id": "2ed2c2d9",
   "metadata": {},
   "outputs": [],
   "source": [
    "from collections import defaultdict"
   ]
  },
  {
   "cell_type": "markdown",
   "id": "ac649510",
   "metadata": {},
   "source": [
    "Mette a disposizione: l'espressione defaultdict(<tipo>) crea un dizionario vuoto e il tipo indicato come argomento determina quale sarà il valore predefinito per le chiavi. Nel nostro caso, l'argomento int fa sì che tale valore predefinito sia 0. Ciò permette di riscrivere la funzione get_sorted_counts in modo che non sia più necessario verificare preventivamente l'esistenza dei contatori."
   ]
  },
  {
   "cell_type": "code",
   "execution_count": 38,
   "id": "d7e60f9b",
   "metadata": {},
   "outputs": [],
   "source": [
    "def get_sorted_counts(sequence):\n",
    "    counts = defaultdict(int)\n",
    "\n",
    "    for x in sequence:\n",
    "        counts[x] += 1\n",
    "\n",
    "    pairs = counts.items()\n",
    "    return sorted(pairs, key=lambda p:p[1], reverse=True)"
   ]
  },
  {
   "cell_type": "markdown",
   "id": "a52dcccb",
   "metadata": {},
   "source": [
    "**Convenzioni**"
   ]
  },
  {
   "cell_type": "code",
   "execution_count": 39,
   "id": "cfdc3df5",
   "metadata": {},
   "outputs": [],
   "source": [
    "import numpy as np\n",
    "import pandas as pd"
   ]
  },
  {
   "cell_type": "markdown",
   "id": "2ff368de",
   "metadata": {},
   "source": [
    "I moduli più complessi sono organizzati in strutture gerarchiche chiamate package"
   ]
  },
  {
   "cell_type": "code",
   "execution_count": 40,
   "id": "bb6422e0",
   "metadata": {},
   "outputs": [],
   "source": [
    "import matplotlib.pyplot as plt\n",
    "plt.style.use('fivethirtyeight')"
   ]
  },
  {
   "cell_type": "markdown",
   "id": "0d8bda36",
   "metadata": {},
   "source": [
    "## Disegnare grafici\n",
    "Il modulo plt può essere usato per produrre vari tipi di grafici."
   ]
  },
  {
   "cell_type": "code",
   "execution_count": 42,
   "id": "239bb79b",
   "metadata": {},
   "outputs": [
    {
     "data": {
      "text/plain": [
       "array([[1941, 1962, 1963, 1964, 1940, 1961, 1981, 1979],\n",
       "       [   3,    2,    2,    1,    1,    1,    1,    1]])"
      ]
     },
     "execution_count": 42,
     "metadata": {},
     "output_type": "execute_result"
    }
   ],
   "source": [
    "np.array(get_sorted_counts(years)[1:]).transpose()"
   ]
  },
  {
   "cell_type": "code",
   "execution_count": 43,
   "id": "150b0271",
   "metadata": {},
   "outputs": [],
   "source": [
    "x, y = np.array(get_sorted_counts(years)[1:]).transpose()"
   ]
  },
  {
   "cell_type": "code",
   "execution_count": 44,
   "id": "45b3e461",
   "metadata": {},
   "outputs": [
    {
     "data": {
      "image/png": "[encoded data removed]",
      "text/plain": [
       "<Figure size 500x200 with 1 Axes>"
      ]
     },
     "metadata": {},
     "output_type": "display_data"
    }
   ],
   "source": [
    "plt.rc('figure', figsize=(5.0, 2.0))\n",
    "plt.bar(x, y)\n",
    "plt.show()"
   ]
  },
  {
   "cell_type": "markdown",
   "id": "0d53aa1e",
   "metadata": {},
   "source": [
    "## Importare file csv"
   ]
  },
  {
   "cell_type": "code",
   "execution_count": 48,
   "id": "d3c1339d",
   "metadata": {},
   "outputs": [],
   "source": [
    "import csv\n",
    "\n",
    "with open('jupyter/data/heroes.csv', 'r') as heroes_file:\n",
    "  heroes_reader = csv.reader(heroes_file, delimiter=';', quotechar='\"')\n",
    "  heroes = list(heroes_reader)[1:]"
   ]
  },
  {
   "cell_type": "code",
   "execution_count": 49,
   "id": "1804f3fd",
   "metadata": {},
   "outputs": [],
   "source": [
    "years = [int(h[7]) for h in heroes if h[7]]"
   ]
  },
  {
   "cell_type": "markdown",
   "id": "2806789d",
   "metadata": {},
   "source": [
    "assegna a years la lista che contiene l'anno di prima apparizione di ogni supereroe (che infatti occorre in ottava posizione), convertito da stringa a intero, ma senza considerare le stringhe vuote"
   ]
  },
  {
   "cell_type": "code",
   "execution_count": 50,
   "id": "4f83ad6b",
   "metadata": {},
   "outputs": [
    {
     "data": {
      "image/png": "[encoded data removed]",
      "text/plain": [
       "<Figure size 500x200 with 1 Axes>"
      ]
     },
     "metadata": {},
     "output_type": "display_data"
    }
   ],
   "source": [
    "counts = get_sorted_counts(years)\n",
    "x, y = np.array(counts).transpose()\n",
    "plt.bar(x, y)\n",
    "plt.show()"
   ]
  },
  {
   "cell_type": "markdown",
   "id": "ec27ab11",
   "metadata": {},
   "source": [
    "Il grafico appare \"spostato\" verso sinistra, a causa della presenza di una barra in prossimità dell'anno 2100. Potrebbe essere un supereroe effettivamente nato nel futuro, oppure si potrebbe trattare di un dato errato\n",
    "\n",
    "Vediamo qual è questo valore. Possiamo fare come nel seguente modo"
   ]
  },
  {
   "cell_type": "code",
   "execution_count": 51,
   "id": "d6d89472",
   "metadata": {},
   "outputs": [
    {
     "data": {
      "text/plain": [
       "[2099]"
      ]
     },
     "execution_count": 51,
     "metadata": {},
     "output_type": "execute_result"
    }
   ],
   "source": [
    "[year for year in years if year > 2020]"
   ]
  },
  {
   "cell_type": "markdown",
   "id": "dda6fda7",
   "metadata": {},
   "source": [
    "In soldoni, la presenza dell'anno 2099 causa lo spostamento del grafico.\n",
    "Un modo per procedere è quello di visualizzare il grafico restringendo le ascisse all'intervallo temporale che va dal 1950 al 2015: ciò viene fatto invocando la funzione plt.xlim e passandole una coppia con gli estremi di questo intervallo"
   ]
  },
  {
   "cell_type": "code",
   "execution_count": 52,
   "id": "e7c1242d",
   "metadata": {},
   "outputs": [
    {
     "data": {
      "image/png": "[encoded data removed]",
      "text/plain": [
       "<Figure size 500x200 with 1 Axes>"
      ]
     },
     "metadata": {},
     "output_type": "display_data"
    }
   ],
   "source": [
    "plt.bar(x, y)\n",
    "plt.xlim((1950, 2015))\n",
    "plt.ylim((0, 18.5))\n",
    "plt.show()"
   ]
  },
  {
   "cell_type": "markdown",
   "id": "b6dfd640",
   "metadata": {},
   "source": [
    "# Pandas"
   ]
  },
  {
   "cell_type": "code",
   "execution_count": 5,
   "id": "bdc62b9c",
   "metadata": {},
   "outputs": [],
   "source": [
    "import csv\n",
    "import numpy as np\n",
    "import matplotlib.pyplot as plt\n",
    "import pandas as pd\n",
    "\n",
    "plt.style.use('fivethirtyeight')\n",
    "plt.rc('figure', figsize=(5.0, 2.0))\n",
    "\n",
    "with open('jupyter/data/heroes.csv', 'r') as heroes_file:\n",
    "  heroes_reader = csv.reader(heroes_file, delimiter=';', quotechar='\"')\n",
    "  heroes = list(heroes_reader)[1:]"
   ]
  },
  {
   "cell_type": "markdown",
   "id": "99c72f67",
   "metadata": {},
   "source": [
    "## Serie"
   ]
  },
  {
   "cell_type": "code",
   "execution_count": 6,
   "id": "9c492360",
   "metadata": {},
   "outputs": [
    {
     "data": {
      "text/plain": [
       "A-Bomb         2008.0\n",
       "Abraxas           NaN\n",
       "Abomination       NaN\n",
       "Adam Monroe       NaN\n",
       "Agent 13          NaN\n",
       "                ...  \n",
       "Alan Scott     1940.0\n",
       "Amazo          1960.0\n",
       "Ant-Man        1962.0\n",
       "Ajax           1998.0\n",
       "Alex Mercer       NaN\n",
       "Length: 735, dtype: float64"
      ]
     },
     "execution_count": 6,
     "metadata": {},
     "output_type": "execute_result"
    }
   ],
   "source": [
    "years = [int(h[7]) if h[7] else None for h in heroes]\n",
    "names = [h[0] for h in heroes]\n",
    "first_appearance = pd.Series(years, index = names)\n",
    "\n",
    "first_appearance"
   ]
  },
  {
   "cell_type": "markdown",
   "id": "2cb24e0f",
   "metadata": {},
   "source": [
    "### Accesso ai dati della serie\n",
    "* Specificando un valore per l'indice tra parentesi quadre dopo la serie o dopo la sua proprietà loc"
   ]
  },
  {
   "cell_type": "code",
   "execution_count": 7,
   "id": "aee6498c",
   "metadata": {},
   "outputs": [
    {
     "data": {
      "text/plain": [
       "(1941.0, 1941.0)"
      ]
     },
     "execution_count": 7,
     "metadata": {},
     "output_type": "execute_result"
    }
   ],
   "source": [
    "(first_appearance['Wonder Woman'], first_appearance.loc['Wonder Woman'])"
   ]
  },
  {
   "cell_type": "markdown",
   "id": "4766e718",
   "metadata": {},
   "source": [
    "* Indicando un valore per la posizione tra parentesi quadre dopo la serie o dopo la sua proprietà iloc"
   ]
  },
  {
   "cell_type": "code",
   "execution_count": 8,
   "id": "c5397715",
   "metadata": {},
   "outputs": [
    {
     "data": {
      "text/plain": [
       "(1992.0, 1992.0)"
      ]
     },
     "execution_count": 8,
     "metadata": {},
     "output_type": "execute_result"
    }
   ],
   "source": [
    "(first_appearance[128], first_appearance.iloc[128])"
   ]
  },
  {
   "cell_type": "markdown",
   "id": "d288d20f",
   "metadata": {},
   "source": [
    "* Utilizzando una notazione simile al list slicing specificando valori dell'indice oppure posizioni. Va però notato che gli slicing basati su indice comprenderanno il primo e l'ultimo valore specificato"
   ]
  },
  {
   "cell_type": "code",
   "execution_count": 9,
   "id": "c3a99c7e",
   "metadata": {},
   "outputs": [
    {
     "data": {
      "text/plain": [
       "Wonder Girl     1996.0\n",
       "Wonder Woman    1941.0\n",
       "dtype: float64"
      ]
     },
     "execution_count": 9,
     "metadata": {},
     "output_type": "execute_result"
    }
   ],
   "source": [
    "first_appearance['Wonder Girl':'Wonder Woman']"
   ]
  },
  {
   "cell_type": "markdown",
   "id": "bc488189",
   "metadata": {},
   "source": [
    "    gli slice basati su posizione escluderanno l'ultimo elemento"
   ]
  },
  {
   "cell_type": "code",
   "execution_count": 10,
   "id": "ab849ec8",
   "metadata": {},
   "outputs": [
    {
     "data": {
      "text/plain": [
       "Vegeta         NaN\n",
       "Vixen       1981.0\n",
       "Valkyrie       NaN\n",
       "dtype: float64"
      ]
     },
     "execution_count": 10,
     "metadata": {},
     "output_type": "execute_result"
    }
   ],
   "source": [
    "first_appearance[60:63]"
   ]
  },
  {
   "cell_type": "markdown",
   "id": "b30f1ce1",
   "metadata": {},
   "source": [
    "* Tramite accesso posizionale con numeri negativi"
   ]
  },
  {
   "cell_type": "code",
   "execution_count": 11,
   "id": "deb5ed2a",
   "metadata": {},
   "outputs": [
    {
     "data": {
      "text/plain": [
       "Alan Scott     1940.0\n",
       "Amazo          1960.0\n",
       "Ant-Man        1962.0\n",
       "Ajax           1998.0\n",
       "Alex Mercer       NaN\n",
       "dtype: float64"
      ]
     },
     "execution_count": 11,
     "metadata": {},
     "output_type": "execute_result"
    }
   ],
   "source": [
    "first_appearance[-5:]"
   ]
  },
  {
   "cell_type": "markdown",
   "id": "cb2d89f3",
   "metadata": {},
   "source": [
    "* È possibile accedere ai primi e ultimi elementi di una serie anche utilizzando le funzioni head e tail, che mostrano rispettivamente solo le prime e le ultime righe"
   ]
  },
  {
   "cell_type": "code",
   "execution_count": 12,
   "id": "cbbb4022",
   "metadata": {},
   "outputs": [
    {
     "data": {
      "text/plain": [
       "A-Bomb         2008.0\n",
       "Abraxas           NaN\n",
       "Abomination       NaN\n",
       "Adam Monroe       NaN\n",
       "Agent 13          NaN\n",
       "Air-Walker        NaN\n",
       "Agent Bob      2007.0\n",
       "dtype: float64"
      ]
     },
     "execution_count": 12,
     "metadata": {},
     "output_type": "execute_result"
    }
   ],
   "source": [
    "first_appearance.head(7)"
   ]
  },
  {
   "cell_type": "markdown",
   "id": "3461a83a",
   "metadata": {},
   "source": [
    "* L'accesso alle liste può anche essere fatto specificando una lista (ma non una tupla) di posizioni"
   ]
  },
  {
   "cell_type": "code",
   "execution_count": 13,
   "id": "e218ce0f",
   "metadata": {},
   "outputs": [
    {
     "data": {
      "text/plain": [
       "Abraxas     NaN\n",
       "Warbird     NaN\n",
       "Astro Boy   NaN\n",
       "dtype: float64"
      ]
     },
     "execution_count": 13,
     "metadata": {},
     "output_type": "execute_result"
    }
   ],
   "source": [
    "first_appearance[[1, 42, 709]]"
   ]
  },
  {
   "cell_type": "markdown",
   "id": "e032888e",
   "metadata": {},
   "source": [
    "* Altre modalità utili"
   ]
  },
  {
   "cell_type": "code",
   "execution_count": 15,
   "id": "aad12517",
   "metadata": {},
   "outputs": [
    {
     "data": {
      "text/plain": [
       "Thundra               1972.0\n",
       "Swamp Thing           1972.0\n",
       "Shang-Chi             1973.0\n",
       "Rambo                 1972.0\n",
       "Ra's Al Ghul          1971.0\n",
       "Namorita              1972.0\n",
       "Mockingbird           1971.0\n",
       "Metron                1971.0\n",
       "Man-Bat               1970.0\n",
       "Man-Thing             1971.0\n",
       "Luke Cage             1972.0\n",
       "Jennifer Kale         1972.0\n",
       "Iron Fist             1974.0\n",
       "Ghost Rider           1972.0\n",
       "Etrigan               1972.0\n",
       "Drax the Destroyer    1973.0\n",
       "Diamondback           1972.0\n",
       "Doc Samson            1971.0\n",
       "Darkseid              1970.0\n",
       "Deathlok              1974.0\n",
       "Brother Voodoo        1973.0\n",
       "Blade                 1973.0\n",
       "dtype: float64"
      ]
     },
     "execution_count": 15,
     "metadata": {},
     "output_type": "execute_result"
    }
   ],
   "source": [
    "first_appearance[[1970 <= y <1975 for y in first_appearance]]"
   ]
  },
  {
   "cell_type": "code",
   "execution_count": 16,
   "id": "84f83d62",
   "metadata": {},
   "outputs": [
    {
     "data": {
      "text/plain": [
       "Venompool        2011.0\n",
       "The Cape         2011.0\n",
       "Spider-Man       2011.0\n",
       "Simon Baz        2012.0\n",
       "Rey              2015.0\n",
       "Kylo Ren         2015.0\n",
       "Jyn Erso         2016.0\n",
       "K-2SO            2016.0\n",
       "Jessica Cruz     2013.0\n",
       "Garbage Man      2011.0\n",
       "Evil Deadpool    2011.0\n",
       "Captain Cold     2012.0\n",
       "Bloodhawk        2099.0\n",
       "dtype: float64"
      ]
     },
     "execution_count": 16,
     "metadata": {},
     "output_type": "execute_result"
    }
   ],
   "source": [
    "first_appearance[first_appearance > 2010]"
   ]
  },
  {
   "cell_type": "markdown",
   "id": "d2c10012",
   "metadata": {},
   "source": [
    "### Frequenze_counts\n",
    "Permette di calcolare e visualizzare le frequenze assolute: il metodo value_counts restituisce un'altra serie in cui gli indici sono i valori osservati e i valori le corrispondenti frequenze assolute, ordinate in senso non crescente"
   ]
  },
  {
   "cell_type": "code",
   "execution_count": 17,
   "id": "a777deaf",
   "metadata": {},
   "outputs": [
    {
     "data": {
      "text/plain": [
       "1964.0    18\n",
       "1963.0    18\n",
       "1965.0    14\n",
       "2004.0    11\n",
       "1975.0    10\n",
       "          ..\n",
       "2013.0     1\n",
       "1983.0     1\n",
       "1933.0     1\n",
       "1948.0     1\n",
       "1988.0     1\n",
       "Length: 71, dtype: int64"
      ]
     },
     "execution_count": 17,
     "metadata": {},
     "output_type": "execute_result"
    }
   ],
   "source": [
    "first_appearance.value_counts()"
   ]
  },
  {
   "cell_type": "code",
   "execution_count": 19,
   "id": "8edb7a40",
   "metadata": {},
   "outputs": [
    {
     "data": {
      "text/plain": [
       "1964.0    0.049046\n",
       "1963.0    0.049046\n",
       "1965.0    0.038147\n",
       "2004.0    0.029973\n",
       "1975.0    0.027248\n",
       "            ...   \n",
       "2013.0    0.002725\n",
       "1983.0    0.002725\n",
       "1933.0    0.002725\n",
       "1948.0    0.002725\n",
       "1988.0    0.002725\n",
       "Length: 71, dtype: float64"
      ]
     },
     "execution_count": 19,
     "metadata": {},
     "output_type": "execute_result"
    }
   ],
   "source": [
    " first_appearance.value_counts(normalize = True)"
   ]
  },
  {
   "cell_type": "code",
   "execution_count": 21,
   "id": "e2c5ceca",
   "metadata": {},
   "outputs": [
    {
     "data": {
      "text/plain": [
       "A-Bomb             2008.0\n",
       "Abe Sapien         1993.0\n",
       "Abin Sur           1959.0\n",
       "Abomination           NaN\n",
       "Abraxas               NaN\n",
       "                    ...  \n",
       "Yellowjacket II       NaN\n",
       "Ymir                  NaN\n",
       "Yoda               1980.0\n",
       "Zatanna               NaN\n",
       "Zoom                  NaN\n",
       "Length: 735, dtype: float64"
      ]
     },
     "execution_count": 21,
     "metadata": {},
     "output_type": "execute_result"
    }
   ],
   "source": [
    " first_appearance.sort_index()"
   ]
  },
  {
   "cell_type": "markdown",
   "id": "9d342056",
   "metadata": {},
   "source": [
    "Voglio ordinare la serie i cui elementi sono ordinati per valore non decrescente ed eliminare i valori fuori scala"
   ]
  },
  {
   "cell_type": "code",
   "execution_count": 22,
   "id": "5abaeae4",
   "metadata": {},
   "outputs": [
    {
     "data": {
      "text/plain": [
       "1933.0    1\n",
       "1939.0    1\n",
       "1940.0    9\n",
       "1941.0    7\n",
       "1943.0    2\n",
       "1944.0    2\n",
       "1945.0    1\n",
       "1947.0    2\n",
       "1948.0    1\n",
       "1950.0    1\n",
       "dtype: int64"
      ]
     },
     "execution_count": 22,
     "metadata": {},
     "output_type": "execute_result"
    }
   ],
   "source": [
    "first_app_freq = first_appearance[first_appearance < 2090].value_counts().sort_index()\n",
    "first_app_freq.head(10)"
   ]
  },
  {
   "cell_type": "markdown",
   "id": "00c62ac7",
   "metadata": {},
   "source": [
    "### Operazioni\n",
    "Quanti supereroi sono apparsi a partire dal 1960?"
   ]
  },
  {
   "cell_type": "code",
   "execution_count": 26,
   "id": "95438214",
   "metadata": {},
   "outputs": [
    {
     "data": {
      "text/plain": [
       "329"
      ]
     },
     "execution_count": 26,
     "metadata": {},
     "output_type": "execute_result"
    }
   ],
   "source": [
    "sum(first_app_freq[1960:])"
   ]
  },
  {
   "cell_type": "markdown",
   "id": "f54bc80c",
   "metadata": {},
   "source": [
    "## Grafico di una serie"
   ]
  },
  {
   "cell_type": "code",
   "execution_count": 27,
   "id": "26fce69e",
   "metadata": {},
   "outputs": [
    {
     "data": {
      "image/png": "[encoded data removed]",
      "text/plain": [
       "<Figure size 500x200 with 1 Axes>"
      ]
     },
     "metadata": {},
     "output_type": "display_data"
    }
   ],
   "source": [
    "years = np.arange(1945, 2010, 10)\n",
    "index_pos = [first_app_freq.index.get_loc(y) for y in years]\n",
    "first_app_freq.plot.bar()\n",
    "plt.xticks(index_pos, years)\n",
    "plt.ylim((0, 18.5))\n",
    "plt.show()"
   ]
  },
  {
   "cell_type": "markdown",
   "id": "9791f64e",
   "metadata": {},
   "source": [
    "**Metodo migliore**"
   ]
  },
  {
   "cell_type": "code",
   "execution_count": 28,
   "id": "9c90a31d",
   "metadata": {},
   "outputs": [
    {
     "data": {
      "image/png": "[encoded data removed]",
      "text/plain": [
       "<Figure size 500x200 with 1 Axes>"
      ]
     },
     "metadata": {},
     "output_type": "display_data"
    }
   ],
   "source": [
    "plt.bar(first_app_freq.index, first_app_freq.values)\n",
    "plt.xlim((1935, 2015))\n",
    "plt.ylim(0, 18.5)\n",
    "plt.show()"
   ]
  },
  {
   "cell_type": "markdown",
   "id": "30278c27",
   "metadata": {},
   "source": [
    "## Dataframe"
   ]
  },
  {
   "cell_type": "code",
   "execution_count": 30,
   "id": "8097b0c0",
   "metadata": {
    "scrolled": true
   },
   "outputs": [
    {
     "data": {
      "text/html": [
       "<div>\n",
       "<style scoped>\n",
       "    .dataframe tbody tr th:only-of-type {\n",
       "        vertical-align: middle;\n",
       "    }\n",
       "\n",
       "    .dataframe tbody tr th {\n",
       "        vertical-align: top;\n",
       "    }\n",
       "\n",
       "    .dataframe thead th {\n",
       "        text-align: right;\n",
       "    }\n",
       "</style>\n",
       "<table border=\"1\" class=\"dataframe\">\n",
       "  <thead>\n",
       "    <tr style=\"text-align: right;\">\n",
       "      <th></th>\n",
       "      <th>Identity</th>\n",
       "      <th>Birth place</th>\n",
       "      <th>Publisher</th>\n",
       "      <th>Height</th>\n",
       "      <th>Weight</th>\n",
       "      <th>Gender</th>\n",
       "      <th>First appearance</th>\n",
       "      <th>Eye color</th>\n",
       "      <th>Hair color</th>\n",
       "      <th>Strength</th>\n",
       "      <th>Intelligence</th>\n",
       "    </tr>\n",
       "    <tr>\n",
       "      <th>Name</th>\n",
       "      <th></th>\n",
       "      <th></th>\n",
       "      <th></th>\n",
       "      <th></th>\n",
       "      <th></th>\n",
       "      <th></th>\n",
       "      <th></th>\n",
       "      <th></th>\n",
       "      <th></th>\n",
       "      <th></th>\n",
       "      <th></th>\n",
       "    </tr>\n",
       "  </thead>\n",
       "  <tbody>\n",
       "    <tr>\n",
       "      <th>A-Bomb</th>\n",
       "      <td>Richard Milhouse Jones</td>\n",
       "      <td>Scarsdale, Arizona</td>\n",
       "      <td>Marvel Comics</td>\n",
       "      <td>203.21</td>\n",
       "      <td>441.95</td>\n",
       "      <td>M</td>\n",
       "      <td>2008.0</td>\n",
       "      <td>Yellow</td>\n",
       "      <td>No Hair</td>\n",
       "      <td>100.0</td>\n",
       "      <td>moderate</td>\n",
       "    </tr>\n",
       "    <tr>\n",
       "      <th>Abraxas</th>\n",
       "      <td>Abraxas</td>\n",
       "      <td>Within Eternity</td>\n",
       "      <td>Marvel Comics</td>\n",
       "      <td>NaN</td>\n",
       "      <td>NaN</td>\n",
       "      <td>M</td>\n",
       "      <td>NaN</td>\n",
       "      <td>Blue</td>\n",
       "      <td>Black</td>\n",
       "      <td>100.0</td>\n",
       "      <td>high</td>\n",
       "    </tr>\n",
       "    <tr>\n",
       "      <th>Abomination</th>\n",
       "      <td>Emil Blonsky</td>\n",
       "      <td>Zagreb, Yugoslavia</td>\n",
       "      <td>Marvel Comics</td>\n",
       "      <td>203.04</td>\n",
       "      <td>441.98</td>\n",
       "      <td>M</td>\n",
       "      <td>NaN</td>\n",
       "      <td>Green</td>\n",
       "      <td>No Hair</td>\n",
       "      <td>80.0</td>\n",
       "      <td>good</td>\n",
       "    </tr>\n",
       "    <tr>\n",
       "      <th>Adam Monroe</th>\n",
       "      <td>NaN</td>\n",
       "      <td>NaN</td>\n",
       "      <td>NBC - Heroes</td>\n",
       "      <td>NaN</td>\n",
       "      <td>NaN</td>\n",
       "      <td>M</td>\n",
       "      <td>NaN</td>\n",
       "      <td>Blue</td>\n",
       "      <td>Blond</td>\n",
       "      <td>10.0</td>\n",
       "      <td>good</td>\n",
       "    </tr>\n",
       "    <tr>\n",
       "      <th>Agent 13</th>\n",
       "      <td>Sharon Carter</td>\n",
       "      <td>NaN</td>\n",
       "      <td>Marvel Comics</td>\n",
       "      <td>173.41</td>\n",
       "      <td>61.03</td>\n",
       "      <td>F</td>\n",
       "      <td>NaN</td>\n",
       "      <td>Blue</td>\n",
       "      <td>Blond</td>\n",
       "      <td>NaN</td>\n",
       "      <td>NaN</td>\n",
       "    </tr>\n",
       "    <tr>\n",
       "      <th>...</th>\n",
       "      <td>...</td>\n",
       "      <td>...</td>\n",
       "      <td>...</td>\n",
       "      <td>...</td>\n",
       "      <td>...</td>\n",
       "      <td>...</td>\n",
       "      <td>...</td>\n",
       "      <td>...</td>\n",
       "      <td>...</td>\n",
       "      <td>...</td>\n",
       "      <td>...</td>\n",
       "    </tr>\n",
       "    <tr>\n",
       "      <th>Alan Scott</th>\n",
       "      <td>Alan Ladd Wellington Scott</td>\n",
       "      <td>Gotham City</td>\n",
       "      <td>DC Comics</td>\n",
       "      <td>180.98</td>\n",
       "      <td>90.81</td>\n",
       "      <td>M</td>\n",
       "      <td>1940.0</td>\n",
       "      <td>Blue</td>\n",
       "      <td>Blond</td>\n",
       "      <td>80.0</td>\n",
       "      <td>good</td>\n",
       "    </tr>\n",
       "    <tr>\n",
       "      <th>Amazo</th>\n",
       "      <td>NaN</td>\n",
       "      <td>NaN</td>\n",
       "      <td>DC Comics</td>\n",
       "      <td>257.49</td>\n",
       "      <td>173.95</td>\n",
       "      <td>M</td>\n",
       "      <td>1960.0</td>\n",
       "      <td>Red</td>\n",
       "      <td>NaN</td>\n",
       "      <td>100.0</td>\n",
       "      <td>good</td>\n",
       "    </tr>\n",
       "    <tr>\n",
       "      <th>Ant-Man</th>\n",
       "      <td>Hank Pym</td>\n",
       "      <td>Elmsford, New York</td>\n",
       "      <td>Marvel Comics</td>\n",
       "      <td>211.74</td>\n",
       "      <td>122.44</td>\n",
       "      <td>M</td>\n",
       "      <td>1962.0</td>\n",
       "      <td>Blue</td>\n",
       "      <td>Blond</td>\n",
       "      <td>20.0</td>\n",
       "      <td>high</td>\n",
       "    </tr>\n",
       "    <tr>\n",
       "      <th>Ajax</th>\n",
       "      <td>Francis</td>\n",
       "      <td>NaN</td>\n",
       "      <td>Marvel Comics</td>\n",
       "      <td>193.34</td>\n",
       "      <td>90.63</td>\n",
       "      <td>M</td>\n",
       "      <td>1998.0</td>\n",
       "      <td>Brown</td>\n",
       "      <td>Black</td>\n",
       "      <td>50.0</td>\n",
       "      <td>average</td>\n",
       "    </tr>\n",
       "    <tr>\n",
       "      <th>Alex Mercer</th>\n",
       "      <td>Alexander J. Mercer</td>\n",
       "      <td>NaN</td>\n",
       "      <td>Wildstorm</td>\n",
       "      <td>NaN</td>\n",
       "      <td>NaN</td>\n",
       "      <td>M</td>\n",
       "      <td>NaN</td>\n",
       "      <td>NaN</td>\n",
       "      <td>NaN</td>\n",
       "      <td>80.0</td>\n",
       "      <td>average</td>\n",
       "    </tr>\n",
       "  </tbody>\n",
       "</table>\n",
       "<p>735 rows × 11 columns</p>\n",
       "</div>"
      ],
      "text/plain": [
       "                               Identity         Birth place      Publisher  \\\n",
       "Name                                                                         \n",
       "A-Bomb           Richard Milhouse Jones  Scarsdale, Arizona  Marvel Comics   \n",
       "Abraxas                         Abraxas    Within Eternity   Marvel Comics   \n",
       "Abomination                Emil Blonsky  Zagreb, Yugoslavia  Marvel Comics   \n",
       "Adam Monroe                         NaN                 NaN   NBC - Heroes   \n",
       "Agent 13                  Sharon Carter                 NaN  Marvel Comics   \n",
       "...                                 ...                 ...            ...   \n",
       "Alan Scott   Alan Ladd Wellington Scott         Gotham City      DC Comics   \n",
       "Amazo                               NaN                 NaN      DC Comics   \n",
       "Ant-Man                        Hank Pym  Elmsford, New York  Marvel Comics   \n",
       "Ajax                            Francis                 NaN  Marvel Comics   \n",
       "Alex Mercer         Alexander J. Mercer                 NaN      Wildstorm   \n",
       "\n",
       "             Height  Weight Gender  First appearance Eye color Hair color  \\\n",
       "Name                                                                        \n",
       "A-Bomb       203.21  441.95      M            2008.0    Yellow    No Hair   \n",
       "Abraxas         NaN     NaN      M               NaN      Blue      Black   \n",
       "Abomination  203.04  441.98      M               NaN     Green    No Hair   \n",
       "Adam Monroe     NaN     NaN      M               NaN      Blue      Blond   \n",
       "Agent 13     173.41   61.03      F               NaN      Blue      Blond   \n",
       "...             ...     ...    ...               ...       ...        ...   \n",
       "Alan Scott   180.98   90.81      M            1940.0      Blue      Blond   \n",
       "Amazo        257.49  173.95      M            1960.0       Red        NaN   \n",
       "Ant-Man      211.74  122.44      M            1962.0      Blue      Blond   \n",
       "Ajax         193.34   90.63      M            1998.0     Brown      Black   \n",
       "Alex Mercer     NaN     NaN      M               NaN       NaN        NaN   \n",
       "\n",
       "             Strength Intelligence  \n",
       "Name                                \n",
       "A-Bomb          100.0     moderate  \n",
       "Abraxas         100.0         high  \n",
       "Abomination      80.0         good  \n",
       "Adam Monroe      10.0         good  \n",
       "Agent 13          NaN          NaN  \n",
       "...               ...          ...  \n",
       "Alan Scott       80.0         good  \n",
       "Amazo           100.0         good  \n",
       "Ant-Man          20.0         high  \n",
       "Ajax             50.0      average  \n",
       "Alex Mercer      80.0      average  \n",
       "\n",
       "[735 rows x 11 columns]"
      ]
     },
     "execution_count": 30,
     "metadata": {},
     "output_type": "execute_result"
    }
   ],
   "source": [
    "heroes = pd.read_csv('jupyter/data/heroes.csv', sep=';', index_col=0)\n",
    "heroes"
   ]
  },
  {
   "cell_type": "markdown",
   "id": "06b67761",
   "metadata": {},
   "source": [
    "E' possibile interagire con un dataframe in diversi modi. Di seguito alcuni esempi"
   ]
  },
  {
   "cell_type": "code",
   "execution_count": 31,
   "id": "97522dd6",
   "metadata": {},
   "outputs": [
    {
     "data": {
      "text/plain": [
       "Name\n",
       "A-Bomb         M\n",
       "Abraxas        M\n",
       "Abomination    M\n",
       "Adam Monroe    M\n",
       "Agent 13       F\n",
       "              ..\n",
       "Alan Scott     M\n",
       "Amazo          M\n",
       "Ant-Man        M\n",
       "Ajax           M\n",
       "Alex Mercer    M\n",
       "Name: Gender, Length: 735, dtype: object"
      ]
     },
     "execution_count": 31,
     "metadata": {},
     "output_type": "execute_result"
    }
   ],
   "source": [
    "heroes['Gender']"
   ]
  },
  {
   "cell_type": "code",
   "execution_count": 32,
   "id": "136b55e6",
   "metadata": {},
   "outputs": [
    {
     "data": {
      "text/html": [
       "<div>\n",
       "<style scoped>\n",
       "    .dataframe tbody tr th:only-of-type {\n",
       "        vertical-align: middle;\n",
       "    }\n",
       "\n",
       "    .dataframe tbody tr th {\n",
       "        vertical-align: top;\n",
       "    }\n",
       "\n",
       "    .dataframe thead th {\n",
       "        text-align: right;\n",
       "    }\n",
       "</style>\n",
       "<table border=\"1\" class=\"dataframe\">\n",
       "  <thead>\n",
       "    <tr style=\"text-align: right;\">\n",
       "      <th></th>\n",
       "      <th>Identity</th>\n",
       "      <th>Birth place</th>\n",
       "      <th>Publisher</th>\n",
       "      <th>Height</th>\n",
       "      <th>Weight</th>\n",
       "      <th>Gender</th>\n",
       "      <th>First appearance</th>\n",
       "      <th>Eye color</th>\n",
       "      <th>Hair color</th>\n",
       "      <th>Strength</th>\n",
       "      <th>Intelligence</th>\n",
       "    </tr>\n",
       "    <tr>\n",
       "      <th>Name</th>\n",
       "      <th></th>\n",
       "      <th></th>\n",
       "      <th></th>\n",
       "      <th></th>\n",
       "      <th></th>\n",
       "      <th></th>\n",
       "      <th></th>\n",
       "      <th></th>\n",
       "      <th></th>\n",
       "      <th></th>\n",
       "      <th></th>\n",
       "    </tr>\n",
       "  </thead>\n",
       "  <tbody>\n",
       "    <tr>\n",
       "      <th>Agent 13</th>\n",
       "      <td>Sharon Carter</td>\n",
       "      <td>NaN</td>\n",
       "      <td>Marvel Comics</td>\n",
       "      <td>173.41</td>\n",
       "      <td>61.03</td>\n",
       "      <td>F</td>\n",
       "      <td>NaN</td>\n",
       "      <td>Blue</td>\n",
       "      <td>Blond</td>\n",
       "      <td>NaN</td>\n",
       "      <td>NaN</td>\n",
       "    </tr>\n",
       "    <tr>\n",
       "      <th>Air-Walker</th>\n",
       "      <td>Gabriel Lan</td>\n",
       "      <td>Xandar, a planet in the Tranta system, Androme...</td>\n",
       "      <td>Marvel Comics</td>\n",
       "      <td>188.59</td>\n",
       "      <td>108.23</td>\n",
       "      <td>M</td>\n",
       "      <td>NaN</td>\n",
       "      <td>Blue</td>\n",
       "      <td>White</td>\n",
       "      <td>85.0</td>\n",
       "      <td>average</td>\n",
       "    </tr>\n",
       "  </tbody>\n",
       "</table>\n",
       "</div>"
      ],
      "text/plain": [
       "                 Identity                                        Birth place  \\\n",
       "Name                                                                           \n",
       "Agent 13    Sharon Carter                                                NaN   \n",
       "Air-Walker    Gabriel Lan  Xandar, a planet in the Tranta system, Androme...   \n",
       "\n",
       "                Publisher  Height  Weight Gender  First appearance Eye color  \\\n",
       "Name                                                                           \n",
       "Agent 13    Marvel Comics  173.41   61.03      F               NaN      Blue   \n",
       "Air-Walker  Marvel Comics  188.59  108.23      M               NaN      Blue   \n",
       "\n",
       "           Hair color  Strength Intelligence  \n",
       "Name                                          \n",
       "Agent 13        Blond       NaN          NaN  \n",
       "Air-Walker      White      85.0      average  "
      ]
     },
     "execution_count": 32,
     "metadata": {},
     "output_type": "execute_result"
    }
   ],
   "source": [
    "heroes['Agent 13':'Air-Walker']"
   ]
  },
  {
   "cell_type": "code",
   "execution_count": 33,
   "id": "9c0aa7e4",
   "metadata": {},
   "outputs": [
    {
     "data": {
      "text/plain": [
       "Identity            Charles Francis Xavier\n",
       "Birth place             New York, New York\n",
       "Publisher                    Marvel Comics\n",
       "Height                              183.74\n",
       "Weight                               86.89\n",
       "Gender                                   M\n",
       "First appearance                    1963.0\n",
       "Eye color                             Blue\n",
       "Hair color                         No Hair\n",
       "Strength                              10.0\n",
       "Intelligence                          high\n",
       "Name: Professor X, dtype: object"
      ]
     },
     "execution_count": 33,
     "metadata": {},
     "output_type": "execute_result"
    }
   ],
   "source": [
    "heroes.loc['Professor X']"
   ]
  },
  {
   "cell_type": "code",
   "execution_count": 34,
   "id": "7412ff29",
   "metadata": {},
   "outputs": [
    {
     "data": {
      "text/plain": [
       "Height    183.74\n",
       "Weight     86.89\n",
       "Name: Professor X, dtype: object"
      ]
     },
     "execution_count": 34,
     "metadata": {},
     "output_type": "execute_result"
    }
   ],
   "source": [
    "heroes.loc['Professor X', 'Height':'Weight']"
   ]
  },
  {
   "cell_type": "code",
   "execution_count": 35,
   "id": "bc365590",
   "metadata": {},
   "outputs": [
    {
     "data": {
      "text/html": [
       "<div>\n",
       "<style scoped>\n",
       "    .dataframe tbody tr th:only-of-type {\n",
       "        vertical-align: middle;\n",
       "    }\n",
       "\n",
       "    .dataframe tbody tr th {\n",
       "        vertical-align: top;\n",
       "    }\n",
       "\n",
       "    .dataframe thead th {\n",
       "        text-align: right;\n",
       "    }\n",
       "</style>\n",
       "<table border=\"1\" class=\"dataframe\">\n",
       "  <thead>\n",
       "    <tr style=\"text-align: right;\">\n",
       "      <th></th>\n",
       "      <th>Height</th>\n",
       "      <th>Weight</th>\n",
       "    </tr>\n",
       "    <tr>\n",
       "      <th>Name</th>\n",
       "      <th></th>\n",
       "      <th></th>\n",
       "    </tr>\n",
       "  </thead>\n",
       "  <tbody>\n",
       "    <tr>\n",
       "      <th>Tempest</th>\n",
       "      <td>163.02</td>\n",
       "      <td>54.36</td>\n",
       "    </tr>\n",
       "    <tr>\n",
       "      <th>Supergirl</th>\n",
       "      <td>165.40</td>\n",
       "      <td>54.80</td>\n",
       "    </tr>\n",
       "  </tbody>\n",
       "</table>\n",
       "</div>"
      ],
      "text/plain": [
       "           Height  Weight\n",
       "Name                     \n",
       "Tempest    163.02   54.36\n",
       "Supergirl  165.40   54.80"
      ]
     },
     "execution_count": 35,
     "metadata": {},
     "output_type": "execute_result"
    }
   ],
   "source": [
    "heroes.iloc[[106, 103], [3, 4]]"
   ]
  },
  {
   "cell_type": "code",
   "execution_count": 36,
   "id": "a811a04a",
   "metadata": {},
   "outputs": [
    {
     "data": {
      "text/plain": [
       "100.0"
      ]
     },
     "execution_count": 36,
     "metadata": {},
     "output_type": "execute_result"
    }
   ],
   "source": [
    "heroes.at['Superman', 'Strength']"
   ]
  },
  {
   "cell_type": "code",
   "execution_count": 37,
   "id": "f251af73",
   "metadata": {},
   "outputs": [
    {
     "data": {
      "text/plain": [
       "'high'"
      ]
     },
     "execution_count": 37,
     "metadata": {},
     "output_type": "execute_result"
    }
   ],
   "source": [
    "heroes.iat[500, -1]"
   ]
  },
  {
   "cell_type": "code",
   "execution_count": 38,
   "id": "0edc47ae",
   "metadata": {},
   "outputs": [
    {
     "data": {
      "text/html": [
       "<div>\n",
       "<style scoped>\n",
       "    .dataframe tbody tr th:only-of-type {\n",
       "        vertical-align: middle;\n",
       "    }\n",
       "\n",
       "    .dataframe tbody tr th {\n",
       "        vertical-align: top;\n",
       "    }\n",
       "\n",
       "    .dataframe thead th {\n",
       "        text-align: right;\n",
       "    }\n",
       "</style>\n",
       "<table border=\"1\" class=\"dataframe\">\n",
       "  <thead>\n",
       "    <tr style=\"text-align: right;\">\n",
       "      <th></th>\n",
       "      <th>Identity</th>\n",
       "      <th>Birth place</th>\n",
       "      <th>Publisher</th>\n",
       "      <th>Height</th>\n",
       "      <th>Weight</th>\n",
       "      <th>Gender</th>\n",
       "      <th>First appearance</th>\n",
       "      <th>Eye color</th>\n",
       "      <th>Hair color</th>\n",
       "      <th>Strength</th>\n",
       "      <th>Intelligence</th>\n",
       "    </tr>\n",
       "    <tr>\n",
       "      <th>Name</th>\n",
       "      <th></th>\n",
       "      <th></th>\n",
       "      <th></th>\n",
       "      <th></th>\n",
       "      <th></th>\n",
       "      <th></th>\n",
       "      <th></th>\n",
       "      <th></th>\n",
       "      <th></th>\n",
       "      <th></th>\n",
       "      <th></th>\n",
       "    </tr>\n",
       "  </thead>\n",
       "  <tbody>\n",
       "    <tr>\n",
       "      <th>Sasquatch</th>\n",
       "      <td>Walter Langkowski</td>\n",
       "      <td>Edmonton, Alberta, Canada</td>\n",
       "      <td>Marvel Comics</td>\n",
       "      <td>305.02</td>\n",
       "      <td>900.70</td>\n",
       "      <td>M</td>\n",
       "      <td>NaN</td>\n",
       "      <td>Red</td>\n",
       "      <td>Orange</td>\n",
       "      <td>80.0</td>\n",
       "      <td>good</td>\n",
       "    </tr>\n",
       "    <tr>\n",
       "      <th>Juggernaut</th>\n",
       "      <td>Cain Marko</td>\n",
       "      <td>Berkeley, California</td>\n",
       "      <td>Marvel Comics</td>\n",
       "      <td>287.95</td>\n",
       "      <td>855.82</td>\n",
       "      <td>M</td>\n",
       "      <td>1965.0</td>\n",
       "      <td>Blue</td>\n",
       "      <td>Red</td>\n",
       "      <td>100.0</td>\n",
       "      <td>average</td>\n",
       "    </tr>\n",
       "    <tr>\n",
       "      <th>Darkseid</th>\n",
       "      <td>Uxas</td>\n",
       "      <td>NaN</td>\n",
       "      <td>DC Comics</td>\n",
       "      <td>267.37</td>\n",
       "      <td>817.57</td>\n",
       "      <td>M</td>\n",
       "      <td>1970.0</td>\n",
       "      <td>Red</td>\n",
       "      <td>No Hair</td>\n",
       "      <td>100.0</td>\n",
       "      <td>high</td>\n",
       "    </tr>\n",
       "    <tr>\n",
       "      <th>Hulk</th>\n",
       "      <td>Bruce Banner</td>\n",
       "      <td>Dayton, Ohio</td>\n",
       "      <td>Marvel Comics</td>\n",
       "      <td>244.40</td>\n",
       "      <td>630.90</td>\n",
       "      <td>M</td>\n",
       "      <td>1962.0</td>\n",
       "      <td>Green</td>\n",
       "      <td>Green</td>\n",
       "      <td>100.0</td>\n",
       "      <td>high</td>\n",
       "    </tr>\n",
       "    <tr>\n",
       "      <th>Giganta</th>\n",
       "      <td>Doris Zuel</td>\n",
       "      <td>NaN</td>\n",
       "      <td>DC Comics</td>\n",
       "      <td>62.65</td>\n",
       "      <td>630.80</td>\n",
       "      <td>F</td>\n",
       "      <td>1944.0</td>\n",
       "      <td>Green</td>\n",
       "      <td>Red</td>\n",
       "      <td>90.0</td>\n",
       "      <td>high</td>\n",
       "    </tr>\n",
       "  </tbody>\n",
       "</table>\n",
       "</div>"
      ],
      "text/plain": [
       "                     Identity                 Birth place      Publisher  \\\n",
       "Name                                                                       \n",
       "Sasquatch   Walter Langkowski  Edmonton, Alberta, Canada   Marvel Comics   \n",
       "Juggernaut         Cain Marko        Berkeley, California  Marvel Comics   \n",
       "Darkseid                 Uxas                         NaN      DC Comics   \n",
       "Hulk             Bruce Banner                Dayton, Ohio  Marvel Comics   \n",
       "Giganta            Doris Zuel                         NaN      DC Comics   \n",
       "\n",
       "            Height  Weight Gender  First appearance Eye color Hair color  \\\n",
       "Name                                                                       \n",
       "Sasquatch   305.02  900.70      M               NaN       Red     Orange   \n",
       "Juggernaut  287.95  855.82      M            1965.0      Blue        Red   \n",
       "Darkseid    267.37  817.57      M            1970.0       Red    No Hair   \n",
       "Hulk        244.40  630.90      M            1962.0     Green      Green   \n",
       "Giganta      62.65  630.80      F            1944.0     Green        Red   \n",
       "\n",
       "            Strength Intelligence  \n",
       "Name                               \n",
       "Sasquatch       80.0         good  \n",
       "Juggernaut     100.0      average  \n",
       "Darkseid       100.0         high  \n",
       "Hulk           100.0         high  \n",
       "Giganta         90.0         high  "
      ]
     },
     "execution_count": 38,
     "metadata": {},
     "output_type": "execute_result"
    }
   ],
   "source": [
    "heroes.sort_values(by='Weight', ascending=False)[:5]"
   ]
  },
  {
   "cell_type": "code",
   "execution_count": 39,
   "id": "a1c69e31",
   "metadata": {},
   "outputs": [
    {
     "data": {
      "text/html": [
       "<div>\n",
       "<style scoped>\n",
       "    .dataframe tbody tr th:only-of-type {\n",
       "        vertical-align: middle;\n",
       "    }\n",
       "\n",
       "    .dataframe tbody tr th {\n",
       "        vertical-align: top;\n",
       "    }\n",
       "\n",
       "    .dataframe thead th {\n",
       "        text-align: right;\n",
       "    }\n",
       "</style>\n",
       "<table border=\"1\" class=\"dataframe\">\n",
       "  <thead>\n",
       "    <tr style=\"text-align: right;\">\n",
       "      <th></th>\n",
       "      <th>Identity</th>\n",
       "      <th>Birth place</th>\n",
       "      <th>Publisher</th>\n",
       "      <th>Height</th>\n",
       "      <th>Weight</th>\n",
       "      <th>Gender</th>\n",
       "      <th>First appearance</th>\n",
       "      <th>Eye color</th>\n",
       "      <th>Hair color</th>\n",
       "      <th>Strength</th>\n",
       "      <th>Intelligence</th>\n",
       "    </tr>\n",
       "    <tr>\n",
       "      <th>Name</th>\n",
       "      <th></th>\n",
       "      <th></th>\n",
       "      <th></th>\n",
       "      <th></th>\n",
       "      <th></th>\n",
       "      <th></th>\n",
       "      <th></th>\n",
       "      <th></th>\n",
       "      <th></th>\n",
       "      <th></th>\n",
       "      <th></th>\n",
       "    </tr>\n",
       "  </thead>\n",
       "  <tbody>\n",
       "    <tr>\n",
       "      <th>Yellowjacket II</th>\n",
       "      <td>Rita DeMara</td>\n",
       "      <td>NaN</td>\n",
       "      <td>Marvel Comics</td>\n",
       "      <td>165.58</td>\n",
       "      <td>52.36</td>\n",
       "      <td>F</td>\n",
       "      <td>NaN</td>\n",
       "      <td>Blue</td>\n",
       "      <td>Strawberry Blond</td>\n",
       "      <td>10.0</td>\n",
       "      <td>average</td>\n",
       "    </tr>\n",
       "    <tr>\n",
       "      <th>Ymir</th>\n",
       "      <td>Ymir</td>\n",
       "      <td>Niffleheim</td>\n",
       "      <td>Marvel Comics</td>\n",
       "      <td>304.63</td>\n",
       "      <td>NaN</td>\n",
       "      <td>M</td>\n",
       "      <td>NaN</td>\n",
       "      <td>White</td>\n",
       "      <td>No Hair</td>\n",
       "      <td>100.0</td>\n",
       "      <td>average</td>\n",
       "    </tr>\n",
       "    <tr>\n",
       "      <th>Yoda</th>\n",
       "      <td>Yoda</td>\n",
       "      <td>NaN</td>\n",
       "      <td>George Lucas</td>\n",
       "      <td>66.29</td>\n",
       "      <td>17.01</td>\n",
       "      <td>M</td>\n",
       "      <td>1980.0</td>\n",
       "      <td>Brown</td>\n",
       "      <td>White</td>\n",
       "      <td>55.0</td>\n",
       "      <td>high</td>\n",
       "    </tr>\n",
       "    <tr>\n",
       "      <th>Zatanna</th>\n",
       "      <td>Zatanna Zatara</td>\n",
       "      <td>NaN</td>\n",
       "      <td>DC Comics</td>\n",
       "      <td>170.29</td>\n",
       "      <td>57.77</td>\n",
       "      <td>F</td>\n",
       "      <td>NaN</td>\n",
       "      <td>Blue</td>\n",
       "      <td>Black</td>\n",
       "      <td>10.0</td>\n",
       "      <td>high</td>\n",
       "    </tr>\n",
       "    <tr>\n",
       "      <th>Zoom</th>\n",
       "      <td>Hunter Zolomon</td>\n",
       "      <td>NaN</td>\n",
       "      <td>DC Comics</td>\n",
       "      <td>185.90</td>\n",
       "      <td>81.93</td>\n",
       "      <td>M</td>\n",
       "      <td>NaN</td>\n",
       "      <td>Red</td>\n",
       "      <td>Brown</td>\n",
       "      <td>10.0</td>\n",
       "      <td>average</td>\n",
       "    </tr>\n",
       "  </tbody>\n",
       "</table>\n",
       "</div>"
      ],
      "text/plain": [
       "                       Identity Birth place      Publisher  Height  Weight  \\\n",
       "Name                                                                         \n",
       "Yellowjacket II     Rita DeMara         NaN  Marvel Comics  165.58   52.36   \n",
       "Ymir                       Ymir  Niffleheim  Marvel Comics  304.63     NaN   \n",
       "Yoda                       Yoda         NaN   George Lucas   66.29   17.01   \n",
       "Zatanna          Zatanna Zatara         NaN      DC Comics  170.29   57.77   \n",
       "Zoom             Hunter Zolomon         NaN      DC Comics  185.90   81.93   \n",
       "\n",
       "                Gender  First appearance Eye color        Hair color  \\\n",
       "Name                                                                   \n",
       "Yellowjacket II      F               NaN      Blue  Strawberry Blond   \n",
       "Ymir                 M               NaN     White           No Hair   \n",
       "Yoda                 M            1980.0     Brown             White   \n",
       "Zatanna              F               NaN      Blue             Black   \n",
       "Zoom                 M               NaN       Red             Brown   \n",
       "\n",
       "                 Strength Intelligence  \n",
       "Name                                    \n",
       "Yellowjacket II      10.0      average  \n",
       "Ymir                100.0      average  \n",
       "Yoda                 55.0         high  \n",
       "Zatanna              10.0         high  \n",
       "Zoom                 10.0      average  "
      ]
     },
     "execution_count": 39,
     "metadata": {},
     "output_type": "execute_result"
    }
   ],
   "source": [
    "heroes.sort_index()[-5:]"
   ]
  },
  {
   "cell_type": "code",
   "execution_count": 40,
   "id": "84f991e5",
   "metadata": {},
   "outputs": [
    {
     "data": {
      "text/html": [
       "<div>\n",
       "<style scoped>\n",
       "    .dataframe tbody tr th:only-of-type {\n",
       "        vertical-align: middle;\n",
       "    }\n",
       "\n",
       "    .dataframe tbody tr th {\n",
       "        vertical-align: top;\n",
       "    }\n",
       "\n",
       "    .dataframe thead th {\n",
       "        text-align: right;\n",
       "    }\n",
       "</style>\n",
       "<table border=\"1\" class=\"dataframe\">\n",
       "  <thead>\n",
       "    <tr style=\"text-align: right;\">\n",
       "      <th></th>\n",
       "      <th>Identity</th>\n",
       "      <th>Birth place</th>\n",
       "      <th>Publisher</th>\n",
       "      <th>Height</th>\n",
       "      <th>Weight</th>\n",
       "      <th>Gender</th>\n",
       "      <th>First appearance</th>\n",
       "      <th>Eye color</th>\n",
       "      <th>Hair color</th>\n",
       "      <th>Strength</th>\n",
       "      <th>Intelligence</th>\n",
       "    </tr>\n",
       "    <tr>\n",
       "      <th>Name</th>\n",
       "      <th></th>\n",
       "      <th></th>\n",
       "      <th></th>\n",
       "      <th></th>\n",
       "      <th></th>\n",
       "      <th></th>\n",
       "      <th></th>\n",
       "      <th></th>\n",
       "      <th></th>\n",
       "      <th></th>\n",
       "      <th></th>\n",
       "    </tr>\n",
       "  </thead>\n",
       "  <tbody>\n",
       "    <tr>\n",
       "      <th>A-Bomb</th>\n",
       "      <td>Richard Milhouse Jones</td>\n",
       "      <td>Scarsdale, Arizona</td>\n",
       "      <td>Marvel Comics</td>\n",
       "      <td>203.21</td>\n",
       "      <td>441.95</td>\n",
       "      <td>M</td>\n",
       "      <td>2008.0</td>\n",
       "      <td>Yellow</td>\n",
       "      <td>No Hair</td>\n",
       "      <td>100.0</td>\n",
       "      <td>moderate</td>\n",
       "    </tr>\n",
       "    <tr>\n",
       "      <th>Agent Bob</th>\n",
       "      <td>Bob</td>\n",
       "      <td>NaN</td>\n",
       "      <td>Marvel Comics</td>\n",
       "      <td>178.25</td>\n",
       "      <td>81.45</td>\n",
       "      <td>M</td>\n",
       "      <td>2007.0</td>\n",
       "      <td>Brown</td>\n",
       "      <td>Brown</td>\n",
       "      <td>10.0</td>\n",
       "      <td>low</td>\n",
       "    </tr>\n",
       "    <tr>\n",
       "      <th>Abe Sapien</th>\n",
       "      <td>Abraham Sapien</td>\n",
       "      <td>NaN</td>\n",
       "      <td>Dark Horse Comics</td>\n",
       "      <td>191.24</td>\n",
       "      <td>65.35</td>\n",
       "      <td>M</td>\n",
       "      <td>1993.0</td>\n",
       "      <td>Blue</td>\n",
       "      <td>No Hair</td>\n",
       "      <td>30.0</td>\n",
       "      <td>high</td>\n",
       "    </tr>\n",
       "    <tr>\n",
       "      <th>Abin Sur</th>\n",
       "      <td>NaN</td>\n",
       "      <td>Ungara</td>\n",
       "      <td>DC Comics</td>\n",
       "      <td>185.52</td>\n",
       "      <td>90.90</td>\n",
       "      <td>M</td>\n",
       "      <td>1959.0</td>\n",
       "      <td>Blue</td>\n",
       "      <td>No Hair</td>\n",
       "      <td>90.0</td>\n",
       "      <td>average</td>\n",
       "    </tr>\n",
       "    <tr>\n",
       "      <th>Animal Man</th>\n",
       "      <td>Bernhard Baker</td>\n",
       "      <td>NaN</td>\n",
       "      <td>DC Comics</td>\n",
       "      <td>183.80</td>\n",
       "      <td>83.39</td>\n",
       "      <td>M</td>\n",
       "      <td>1965.0</td>\n",
       "      <td>Blue</td>\n",
       "      <td>Blond</td>\n",
       "      <td>50.0</td>\n",
       "      <td>average</td>\n",
       "    </tr>\n",
       "  </tbody>\n",
       "</table>\n",
       "</div>"
      ],
      "text/plain": [
       "                          Identity         Birth place          Publisher  \\\n",
       "Name                                                                        \n",
       "A-Bomb      Richard Milhouse Jones  Scarsdale, Arizona      Marvel Comics   \n",
       "Agent Bob                      Bob                 NaN      Marvel Comics   \n",
       "Abe Sapien          Abraham Sapien                 NaN  Dark Horse Comics   \n",
       "Abin Sur                       NaN              Ungara          DC Comics   \n",
       "Animal Man          Bernhard Baker                 NaN          DC Comics   \n",
       "\n",
       "            Height  Weight Gender  First appearance Eye color Hair color  \\\n",
       "Name                                                                       \n",
       "A-Bomb      203.21  441.95      M            2008.0    Yellow    No Hair   \n",
       "Agent Bob   178.25   81.45      M            2007.0     Brown      Brown   \n",
       "Abe Sapien  191.24   65.35      M            1993.0      Blue    No Hair   \n",
       "Abin Sur    185.52   90.90      M            1959.0      Blue    No Hair   \n",
       "Animal Man  183.80   83.39      M            1965.0      Blue      Blond   \n",
       "\n",
       "            Strength Intelligence  \n",
       "Name                               \n",
       "A-Bomb         100.0     moderate  \n",
       "Agent Bob       10.0          low  \n",
       "Abe Sapien      30.0         high  \n",
       "Abin Sur        90.0      average  \n",
       "Animal Man      50.0      average  "
      ]
     },
     "execution_count": 40,
     "metadata": {},
     "output_type": "execute_result"
    }
   ],
   "source": [
    "heroes_with_year = heroes[heroes['First appearance'] > 1900]\n",
    "heroes_with_year.head()"
   ]
  },
  {
   "cell_type": "code",
   "execution_count": null,
   "id": "5691c208",
   "metadata": {},
   "outputs": [],
   "source": []
  }
 ],
 "metadata": {
  "kernelspec": {
   "display_name": "Python 3 (ipykernel)",
   "language": "python",
   "name": "python3"
  },
  "language_info": {
   "codemirror_mode": {
    "name": "ipython",
    "version": 3
   },
   "file_extension": ".py",
   "mimetype": "text/x-python",
   "name": "python",
   "nbconvert_exporter": "python",
   "pygments_lexer": "ipython3",
   "version": "3.9.13"
  }
 },
 "nbformat": 4,
 "nbformat_minor": 5
}
